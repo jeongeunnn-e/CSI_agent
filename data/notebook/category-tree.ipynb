{
 "cells": [
  {
   "cell_type": "code",
   "execution_count": 2,
   "metadata": {},
   "outputs": [],
   "source": [
    "import category_tree as ct"
   ]
  },
  {
   "cell_type": "code",
   "execution_count": 3,
   "metadata": {},
   "outputs": [
    {
     "data": {
      "text/plain": [
       "<category_tree.SampleTree at 0x7f7acf0001c0>"
      ]
     },
     "execution_count": 3,
     "metadata": {},
     "output_type": "execute_result"
    }
   ],
   "source": [
    "ct.tree"
   ]
  },
  {
   "cell_type": "code",
   "execution_count": 6,
   "metadata": {},
   "outputs": [
    {
     "data": {
      "text/plain": [
       "['Clothing, Shoes & Jewelry', 'Shoe, Jewelry & Watch Accessories']"
      ]
     },
     "execution_count": 6,
     "metadata": {},
     "output_type": "execute_result"
    }
   ],
   "source": [
    "tree = ct.tree\n",
    "tree.search_children([])"
   ]
  },
  {
   "cell_type": "code",
   "execution_count": 23,
   "metadata": {},
   "outputs": [],
   "source": [
    "tree.search_children(['Baby'])"
   ]
  },
  {
   "cell_type": "code",
   "execution_count": 28,
   "metadata": {},
   "outputs": [
    {
     "name": "stdout",
     "output_type": "stream",
     "text": [
      "Men > Jewelry\n",
      "Men > Watches\n",
      "Men > Clothing\n",
      "Men > Shoes\n",
      "Men > Uniforms, Work & Safety\n",
      "Men > Accessories\n",
      "Women > Clothing\n",
      "Women > Shoes\n",
      "Women > Uniforms, Work & Safety\n",
      "Women > Accessories\n",
      "Women > Watches\n",
      "Women > Jewelry\n",
      "Women > Maternity\n",
      "Women > Handbags & Wallets\n",
      "Boys > Clothing\n",
      "Boys > Shoes\n",
      "Boys > Accessories\n",
      "Boys > Watches\n",
      "Boys > School Uniforms\n",
      "Novelty & More > Clothing\n",
      "Toddler Test > Boys\n",
      "Toddler Test > Girls\n",
      "Baby > Baby Boys\n",
      "Baby > Baby Girls\n",
      "Sport Specific Clothing > Yoga\n",
      "Sport Specific Clothing > Golf\n",
      "Sport Specific Clothing > Skiing\n",
      "Sport Specific Clothing > Running\n",
      "Sport Specific Clothing > Hiking & Outdoor Recreation\n",
      "Sport Specific Clothing > Cycling\n",
      "Sport Specific Clothing > Basketball\n",
      "Sport Specific Clothing > Competitive Swimwear\n",
      "Shoe, Jewelry & Watch Accessories > Shoe Care & Accessories\n",
      "Shoe, Jewelry & Watch Accessories > Jewelry Accessories\n",
      "Shoe, Jewelry & Watch Accessories > Watch Accessories\n",
      "Girls > Clothing\n",
      "Girls > Shoes\n",
      "Girls > Watches\n",
      "Girls > School Uniforms\n",
      "Luggage & Travel Gear > Travel Accessories\n",
      "Luggage & Travel Gear > Backpacks\n",
      "Luggage & Travel Gear > Travel Duffels\n",
      "Luggage & Travel Gear > Luggage\n",
      "Luggage & Travel Gear > Messenger Bags\n",
      "Luggage & Travel Gear > Umbrellas\n",
      "Luggage & Travel Gear > Travel Totes\n",
      "Luggage & Travel Gear > Gym Bags\n",
      "Boot Shop > Women\n",
      "Boot Shop > Men\n",
      "Boot Shop > Boys\n",
      "Boot Shop > Girls\n",
      "Amazon Fashion Deals > Deals for Men\n",
      "Amazon Fashion Deals > Deals for Women\n",
      "School Uniforms > Juniors\n",
      "Costumes & Accessories > Men\n",
      "Costumes & Accessories > Women\n",
      "Costumes & Accessories > Kids & Baby\n",
      "Uniforms, Work & Safety > Clothing\n",
      "Fashion Under $50 > Child Store: MSD <$50\n",
      "Shoe Care & Accessories > Shoe Care Treatments & Dyes\n"
     ]
    }
   ],
   "source": [
    "def get_exact_depth_paths(node, path, depth, target_depth=3):\n",
    "\n",
    "    if depth > target_depth:\n",
    "        return []\n",
    "\n",
    "    paths = []\n",
    "    if depth == target_depth:\n",
    "        paths.append(path)\n",
    "\n",
    "    for child_idx, child_node in node.children.items():\n",
    "        paths.extend(get_exact_depth_paths(child_node, path + [child_idx], depth + 1, target_depth))\n",
    "\n",
    "    return paths\n",
    "\n",
    "\n",
    "# Collect paths with exactly depth 3\n",
    "exact_depth_paths = get_exact_depth_paths(tree.root, [], 0, target_depth=3)\n",
    "\n",
    "# Print paths in the desired format\n",
    "for path in exact_depth_paths:\n",
    "    path = path[1:]\n",
    "    print(\" > \".join(map(str, path)))"
   ]
  },
  {
   "cell_type": "code",
   "execution_count": 26,
   "metadata": {},
   "outputs": [
    {
     "data": {
      "text/plain": [
       "59"
      ]
     },
     "execution_count": 26,
     "metadata": {},
     "output_type": "execute_result"
    }
   ],
   "source": [
    "def get_exact_depth_paths_from_fixed_root(node, path, depth, target_depth=3):\n",
    "\n",
    "    if depth > target_depth:\n",
    "        return []\n",
    "\n",
    "    paths = []\n",
    "    if depth == target_depth:\n",
    "        paths.append(path)\n",
    "\n",
    "    for child_idx, child_node in node.children.items():\n",
    "        paths.extend(get_exact_depth_paths_from_fixed_root(child_node, path + [child_idx], depth + 1, target_depth))\n",
    "\n",
    "    return paths\n",
    "\n",
    "\n",
    "fixed_root = tree.root.children.get(\"Clothing, Shoes & Jewelry\") \n",
    "possible_paths = []\n",
    "\n",
    "if fixed_root:\n",
    "    paths_from_A = get_exact_depth_paths_from_fixed_root(fixed_root, [\"Clothing, Shoes & Jewelry\"], 1, target_depth=3)\n",
    "    for path in paths_from_A:\n",
    "        possible_paths.append(\" > \".join(map(str, path)))\n",
    "else:\n",
    "    print(\"Node 'A' does not exist in the tree.\")\n",
    "\n",
    "len(possible_paths)"
   ]
  },
  {
   "cell_type": "code",
   "execution_count": 27,
   "metadata": {},
   "outputs": [
    {
     "name": "stdout",
     "output_type": "stream",
     "text": [
      "Clothing, Shoes & Jewelry > Men > Jewelry\n",
      "Clothing, Shoes & Jewelry > Men > Watches\n",
      "Clothing, Shoes & Jewelry > Men > Clothing\n",
      "Clothing, Shoes & Jewelry > Men > Shoes\n",
      "Clothing, Shoes & Jewelry > Men > Uniforms, Work & Safety\n",
      "Clothing, Shoes & Jewelry > Men > Accessories\n",
      "Clothing, Shoes & Jewelry > Women > Clothing\n",
      "Clothing, Shoes & Jewelry > Women > Shoes\n",
      "Clothing, Shoes & Jewelry > Women > Uniforms, Work & Safety\n",
      "Clothing, Shoes & Jewelry > Women > Accessories\n",
      "Clothing, Shoes & Jewelry > Women > Watches\n",
      "Clothing, Shoes & Jewelry > Women > Jewelry\n",
      "Clothing, Shoes & Jewelry > Women > Maternity\n",
      "Clothing, Shoes & Jewelry > Women > Handbags & Wallets\n",
      "Clothing, Shoes & Jewelry > Boys > Clothing\n",
      "Clothing, Shoes & Jewelry > Boys > Shoes\n",
      "Clothing, Shoes & Jewelry > Boys > Accessories\n",
      "Clothing, Shoes & Jewelry > Boys > Watches\n",
      "Clothing, Shoes & Jewelry > Boys > School Uniforms\n",
      "Clothing, Shoes & Jewelry > Novelty & More > Clothing\n",
      "Clothing, Shoes & Jewelry > Toddler Test > Boys\n",
      "Clothing, Shoes & Jewelry > Toddler Test > Girls\n",
      "Clothing, Shoes & Jewelry > Baby > Baby Boys\n",
      "Clothing, Shoes & Jewelry > Baby > Baby Girls\n",
      "Clothing, Shoes & Jewelry > Sport Specific Clothing > Yoga\n",
      "Clothing, Shoes & Jewelry > Sport Specific Clothing > Golf\n",
      "Clothing, Shoes & Jewelry > Sport Specific Clothing > Skiing\n",
      "Clothing, Shoes & Jewelry > Sport Specific Clothing > Running\n",
      "Clothing, Shoes & Jewelry > Sport Specific Clothing > Hiking & Outdoor Recreation\n",
      "Clothing, Shoes & Jewelry > Sport Specific Clothing > Cycling\n",
      "Clothing, Shoes & Jewelry > Sport Specific Clothing > Basketball\n",
      "Clothing, Shoes & Jewelry > Sport Specific Clothing > Competitive Swimwear\n",
      "Clothing, Shoes & Jewelry > Shoe, Jewelry & Watch Accessories > Shoe Care & Accessories\n",
      "Clothing, Shoes & Jewelry > Shoe, Jewelry & Watch Accessories > Jewelry Accessories\n",
      "Clothing, Shoes & Jewelry > Shoe, Jewelry & Watch Accessories > Watch Accessories\n",
      "Clothing, Shoes & Jewelry > Girls > Clothing\n",
      "Clothing, Shoes & Jewelry > Girls > Shoes\n",
      "Clothing, Shoes & Jewelry > Girls > Watches\n",
      "Clothing, Shoes & Jewelry > Girls > School Uniforms\n",
      "Clothing, Shoes & Jewelry > Luggage & Travel Gear > Travel Accessories\n",
      "Clothing, Shoes & Jewelry > Luggage & Travel Gear > Backpacks\n",
      "Clothing, Shoes & Jewelry > Luggage & Travel Gear > Travel Duffels\n",
      "Clothing, Shoes & Jewelry > Luggage & Travel Gear > Luggage\n",
      "Clothing, Shoes & Jewelry > Luggage & Travel Gear > Messenger Bags\n",
      "Clothing, Shoes & Jewelry > Luggage & Travel Gear > Umbrellas\n",
      "Clothing, Shoes & Jewelry > Luggage & Travel Gear > Travel Totes\n",
      "Clothing, Shoes & Jewelry > Luggage & Travel Gear > Gym Bags\n",
      "Clothing, Shoes & Jewelry > Boot Shop > Women\n",
      "Clothing, Shoes & Jewelry > Boot Shop > Men\n",
      "Clothing, Shoes & Jewelry > Boot Shop > Boys\n",
      "Clothing, Shoes & Jewelry > Boot Shop > Girls\n",
      "Clothing, Shoes & Jewelry > Amazon Fashion Deals > Deals for Men\n",
      "Clothing, Shoes & Jewelry > Amazon Fashion Deals > Deals for Women\n",
      "Clothing, Shoes & Jewelry > School Uniforms > Juniors\n",
      "Clothing, Shoes & Jewelry > Costumes & Accessories > Men\n",
      "Clothing, Shoes & Jewelry > Costumes & Accessories > Women\n",
      "Clothing, Shoes & Jewelry > Costumes & Accessories > Kids & Baby\n",
      "Clothing, Shoes & Jewelry > Uniforms, Work & Safety > Clothing\n",
      "Clothing, Shoes & Jewelry > Fashion Under $50 > Child Store: MSD <$50\n"
     ]
    }
   ],
   "source": [
    "print(\"\\n\".join(possible_paths))"
   ]
  },
  {
   "cell_type": "code",
   "execution_count": null,
   "metadata": {},
   "outputs": [],
   "source": []
  }
 ],
 "metadata": {
  "kernelspec": {
   "display_name": "Python 3",
   "language": "python",
   "name": "python3"
  },
  "language_info": {
   "codemirror_mode": {
    "name": "ipython",
    "version": 3
   },
   "file_extension": ".py",
   "mimetype": "text/x-python",
   "name": "python",
   "nbconvert_exporter": "python",
   "pygments_lexer": "ipython3",
   "version": "3.10.13"
  }
 },
 "nbformat": 4,
 "nbformat_minor": 2
}
